{
 "cells": [
  {
   "cell_type": "code",
   "execution_count": 1,
   "metadata": {},
   "outputs": [],
   "source": [
    "import pandas as pd\n",
    "from pprint import pprint\n",
    "import arcgis\n",
    "from arcgis.gis import GIS\n",
    "from IPython.display import display"
   ]
  },
  {
   "cell_type": "code",
   "execution_count": 2,
   "metadata": {},
   "outputs": [
    {
     "name": "stdout",
     "output_type": "stream",
     "text": [
      "Please sign in to your GIS and paste the code that is obtained below.\n",
      "If a web browser does not automatically open, please navigate to the URL below yourself instead.\n",
      "Opening web browser to navigate to: https://ral.maps.arcgis.com/sharing/rest/oauth2/authorize?client_id=9VUcLzqiGGv4M1HS&response_type=code&expiration=-1&redirect_uri=urn%3Aietf%3Awg%3Aoauth%3A2.0%3Aoob\n",
      "Enter code obtained on signing in using SAML: ········\n",
      "Successfully logged in as: Ryan.Cooper@raleighnc.gov_ral\n"
     ]
    }
   ],
   "source": [
    "gis = GIS(\"https://ral.maps.arcgis.com\", client_id='9VUcLzqiGGv4M1HS') # Use your own client ID\n",
    "print(\"Successfully logged in as: \" + gis.properties.user.username)"
   ]
  },
  {
   "cell_type": "code",
   "execution_count": 3,
   "metadata": {
    "scrolled": true
   },
   "outputs": [
    {
     "data": {
      "text/html": [
       "<div>\n",
       "<style>\n",
       "    .dataframe thead tr:only-child th {\n",
       "        text-align: right;\n",
       "    }\n",
       "\n",
       "    .dataframe thead th {\n",
       "        text-align: left;\n",
       "    }\n",
       "\n",
       "    .dataframe tbody tr th {\n",
       "        vertical-align: top;\n",
       "    }\n",
       "</style>\n",
       "<table border=\"1\" class=\"dataframe\">\n",
       "  <thead>\n",
       "    <tr style=\"text-align: right;\">\n",
       "      <th></th>\n",
       "      <th>GEOID10</th>\n",
       "      <th>Join_Count</th>\n",
       "      <th>OBJECTID</th>\n",
       "      <th>POP</th>\n",
       "      <th>Shape__Area</th>\n",
       "      <th>Shape__Length</th>\n",
       "      <th>acres_score</th>\n",
       "      <th>acres_wgt</th>\n",
       "      <th>dist_closest</th>\n",
       "      <th>exp_score</th>\n",
       "      <th>exp_wgt</th>\n",
       "      <th>parks_score</th>\n",
       "      <th>parks_wgt</th>\n",
       "      <th>total_score</th>\n",
       "      <th>SHAPE</th>\n",
       "    </tr>\n",
       "  </thead>\n",
       "  <tbody>\n",
       "    <tr>\n",
       "      <th>0</th>\n",
       "      <td>371830506002010</td>\n",
       "      <td>1</td>\n",
       "      <td>1</td>\n",
       "      <td>33</td>\n",
       "      <td>1.780579e+05</td>\n",
       "      <td>1698.261671</td>\n",
       "      <td>None</td>\n",
       "      <td>104.558587</td>\n",
       "      <td>0.052902</td>\n",
       "      <td>None</td>\n",
       "      <td>42.125</td>\n",
       "      <td>None</td>\n",
       "      <td>17.000</td>\n",
       "      <td>None</td>\n",
       "      <td>{'rings': [[[2111677.92141655, 739808.84833014...</td>\n",
       "    </tr>\n",
       "    <tr>\n",
       "      <th>1</th>\n",
       "      <td>371830503001003</td>\n",
       "      <td>1</td>\n",
       "      <td>2</td>\n",
       "      <td>194</td>\n",
       "      <td>8.637156e+05</td>\n",
       "      <td>5549.777347</td>\n",
       "      <td>None</td>\n",
       "      <td>114.165090</td>\n",
       "      <td>0.158518</td>\n",
       "      <td>None</td>\n",
       "      <td>38.500</td>\n",
       "      <td>None</td>\n",
       "      <td>12.875</td>\n",
       "      <td>None</td>\n",
       "      <td>{'rings': [[[2103366.95772356, 744856.98423123...</td>\n",
       "    </tr>\n",
       "    <tr>\n",
       "      <th>2</th>\n",
       "      <td>371830503002010</td>\n",
       "      <td>1</td>\n",
       "      <td>3</td>\n",
       "      <td>13</td>\n",
       "      <td>1.378826e+05</td>\n",
       "      <td>1556.186767</td>\n",
       "      <td>None</td>\n",
       "      <td>185.740984</td>\n",
       "      <td>0.478922</td>\n",
       "      <td>None</td>\n",
       "      <td>39.500</td>\n",
       "      <td>None</td>\n",
       "      <td>14.375</td>\n",
       "      <td>None</td>\n",
       "      <td>{'rings': [[[2103598.20594873, 740828.71210406...</td>\n",
       "    </tr>\n",
       "    <tr>\n",
       "      <th>3</th>\n",
       "      <td>371830536102038</td>\n",
       "      <td>1</td>\n",
       "      <td>4</td>\n",
       "      <td>2</td>\n",
       "      <td>5.161401e+05</td>\n",
       "      <td>3195.843265</td>\n",
       "      <td>None</td>\n",
       "      <td>9.975569</td>\n",
       "      <td>0.425972</td>\n",
       "      <td>None</td>\n",
       "      <td>5.000</td>\n",
       "      <td>None</td>\n",
       "      <td>1.000</td>\n",
       "      <td>None</td>\n",
       "      <td>{'rings': [[[2058933.37106597, 783057.45212148...</td>\n",
       "    </tr>\n",
       "    <tr>\n",
       "      <th>4</th>\n",
       "      <td>371830537251011</td>\n",
       "      <td>1</td>\n",
       "      <td>5</td>\n",
       "      <td>481</td>\n",
       "      <td>3.239082e+06</td>\n",
       "      <td>13314.710279</td>\n",
       "      <td>None</td>\n",
       "      <td>54.958079</td>\n",
       "      <td>1.410869</td>\n",
       "      <td>None</td>\n",
       "      <td>4.500</td>\n",
       "      <td>None</td>\n",
       "      <td>1.375</td>\n",
       "      <td>None</td>\n",
       "      <td>{'rings': [[[2084031.06988622, 773205.79039439...</td>\n",
       "    </tr>\n",
       "  </tbody>\n",
       "</table>\n",
       "</div>"
      ],
      "text/plain": [
       "           GEOID10  Join_Count  OBJECTID  POP   Shape__Area  Shape__Length  \\\n",
       "0  371830506002010           1         1   33  1.780579e+05    1698.261671   \n",
       "1  371830503001003           1         2  194  8.637156e+05    5549.777347   \n",
       "2  371830503002010           1         3   13  1.378826e+05    1556.186767   \n",
       "3  371830536102038           1         4    2  5.161401e+05    3195.843265   \n",
       "4  371830537251011           1         5  481  3.239082e+06   13314.710279   \n",
       "\n",
       "  acres_score   acres_wgt  dist_closest exp_score  exp_wgt parks_score  \\\n",
       "0        None  104.558587      0.052902      None   42.125        None   \n",
       "1        None  114.165090      0.158518      None   38.500        None   \n",
       "2        None  185.740984      0.478922      None   39.500        None   \n",
       "3        None    9.975569      0.425972      None    5.000        None   \n",
       "4        None   54.958079      1.410869      None    4.500        None   \n",
       "\n",
       "   parks_wgt total_score                                              SHAPE  \n",
       "0     17.000        None  {'rings': [[[2111677.92141655, 739808.84833014...  \n",
       "1     12.875        None  {'rings': [[[2103366.95772356, 744856.98423123...  \n",
       "2     14.375        None  {'rings': [[[2103598.20594873, 740828.71210406...  \n",
       "3      1.000        None  {'rings': [[[2058933.37106597, 783057.45212148...  \n",
       "4      1.375        None  {'rings': [[[2084031.06988622, 773205.79039439...  "
      ]
     },
     "execution_count": 3,
     "metadata": {},
     "output_type": "execute_result"
    }
   ],
   "source": [
    "items = gis.content.search(\"065e43a8e5884ca1aee06815009ebb84\")\n",
    "data = items[0]\n",
    "\n",
    "data_layer = data.layers[0]\n",
    "data_layer_query = data_layer.query(where = '1=1', out_fields = \"*\", returnGeomtry=False)\n",
    "\n",
    "df = data_layer_query.df\n",
    "df.head()"
   ]
  },
  {
   "cell_type": "code",
   "execution_count": 4,
   "metadata": {
    "collapsed": true
   },
   "outputs": [],
   "source": [
    "def quantileBreakValues(series, quantiles):\n",
    "    \"\"\"Define quantile breaks for a pandas series\n",
    "\n",
    "    Args:\n",
    "        series (pandas Series): A pandas Series containing numeric values \n",
    "                                for which to calculate quantile break values\n",
    "        quantiles (int): Number of quantiles the Series should be split into\n",
    "    \n",
    "    Returns:\n",
    "        qValuesList: A list of quantile break values for a pandas Series\n",
    "    \n",
    "    \"\"\"\n",
    "    qValuesList = []\n",
    "    qInterval = 1/quantiles\n",
    "    qBreak = 0\n",
    "    while len(qValuesList) < (quantiles - 1):\n",
    "        qBreak += qInterval\n",
    "        qValue = series.quantile(qBreak)\n",
    "        qValuesList.append(qValue)\n",
    "    return qValuesList"
   ]
  },
  {
   "cell_type": "code",
   "execution_count": 5,
   "metadata": {},
   "outputs": [
    {
     "name": "stdout",
     "output_type": "stream",
     "text": [
      "{'acres_wgt': [34.8809749162503,\n",
      "               71.17289503124958,\n",
      "               94.99770913099995,\n",
      "               121.22740080825002],\n",
      " 'dist_closest': [0.3341132297535768,\n",
      "                  0.6558402065891132,\n",
      "                  1.057255234717934,\n",
      "                  1.601113881450642],\n",
      " 'exp_wgt': [2.75, 8.0, 14.200000000000045, 26.875],\n",
      " 'parks_wgt': [0.75, 1.625, 3.375, 8.75]}\n"
     ]
    }
   ],
   "source": [
    "factor_series = [\"acres_wgt\", \"dist_closest\", \"exp_wgt\", \"parks_wgt\"]\n",
    "breaks_dict = {}\n",
    "[breaks_dict.update({f:quantileBreakValues(df[f], 5)}) for f in factor_series]\n",
    "\n",
    "pprint(breaks_dict)"
   ]
  }
 ],
 "metadata": {
  "kernelspec": {
   "display_name": "Python 3",
   "language": "python",
   "name": "python3"
  },
  "language_info": {
   "codemirror_mode": {
    "name": "ipython",
    "version": 3
   },
   "file_extension": ".py",
   "mimetype": "text/x-python",
   "name": "python",
   "nbconvert_exporter": "python",
   "pygments_lexer": "ipython3",
   "version": "3.6.2"
  }
 },
 "nbformat": 4,
 "nbformat_minor": 2
}
